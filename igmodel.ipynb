{
 "cells": [
  {
   "cell_type": "code",
   "execution_count": 1,
   "metadata": {},
   "outputs": [],
   "source": [
    "import pandas as pd\n",
    "import numpy as np\n",
    "import statsmodels.formula.api as sm\n",
    "\n"
   ]
  },
  {
   "cell_type": "code",
   "execution_count": 2,
   "metadata": {},
   "outputs": [],
   "source": [
    "dftrain=pd.read_csv('C:/Users/student/Documents/Senior/Spring/Capstone/Nuveen/WF_Train_round1.csv')"
   ]
  },
  {
   "cell_type": "code",
   "execution_count": 3,
   "metadata": {},
   "outputs": [],
   "source": [
    "dftest=pd.read_csv('C:/Users/student/Documents/Senior/Spring/Capstone/Nuveen/US_WF_Test_round1.csv', low_memory=False)"
   ]
  },
  {
   "cell_type": "code",
   "execution_count": 22,
   "metadata": {},
   "outputs": [
    {
     "name": "stdout",
     "output_type": "stream",
     "text": [
      "Optimization terminated successfully.\n",
      "         Current function value: 0.035417\n",
      "         Iterations 10\n",
      "                           Logit Regression Results                           \n",
      "==============================================================================\n",
      "Dep. Variable:                     ig   No. Observations:                 4824\n",
      "Model:                          Logit   Df Residuals:                     4819\n",
      "Method:                           MLE   Df Model:                            4\n",
      "Date:                Wed, 12 Apr 2023   Pseudo R-squ.:                  0.3859\n",
      "Time:                        19:17:41   Log-Likelihood:                -170.85\n",
      "converged:                       True   LL-Null:                       -278.21\n",
      "Covariance Type:            nonrobust   LLR p-value:                 2.577e-45\n",
      "================================================================================================\n",
      "                                   coef    std err          z      P>|z|      [0.025      0.975]\n",
      "------------------------------------------------------------------------------------------------\n",
      "Intercept                       -5.6614      0.278    -20.374      0.000      -6.206      -5.117\n",
      "nuveen_t12m_sales_hy_taxable -6.741e-06   2.74e-06     -2.461      0.014   -1.21e-05   -1.37e-06\n",
      "nuveen_t24m_sales_ig_taxable  9.679e-06   1.54e-06      6.296      0.000    6.67e-06    1.27e-05\n",
      "nuveen_t12m_netsl_ig_taxable  1.105e-05    2.3e-06      4.801      0.000    6.54e-06    1.56e-05\n",
      "asset2p                          1.4211      0.384      3.703      0.000       0.669       2.173\n",
      "================================================================================================\n"
     ]
    }
   ],
   "source": [
    "model = sm.logit(formula='ig ~ nuveen_t12m_sales_hy_taxable+nuveen_t24m_sales_ig_taxable+nuveen_t12m_netsl_ig_taxable+\\\n",
    "                 asset2p', data=dftrain).fit()\n",
    "print(model.summary())"
   ]
  },
  {
   "cell_type": "code",
   "execution_count": 23,
   "metadata": {},
   "outputs": [],
   "source": [
    "\n",
    "Xtest = dftest[['nuveen_t12m_sales_hy_taxable', 'asset2p', 'nuveen_t24m_sales_ig_taxable', 'nuveen_t12m_netsl_ig_taxable']]\n",
    "ytest = dftest['ig']\n",
    "  \n",
    "ig_yhat = model.predict(Xtest)\n"
   ]
  },
  {
   "cell_type": "code",
   "execution_count": 24,
   "metadata": {},
   "outputs": [],
   "source": [
    "dftest['ig_yhat'] = ig_yhat"
   ]
  },
  {
   "cell_type": "code",
   "execution_count": 27,
   "metadata": {},
   "outputs": [
    {
     "name": "stdout",
     "output_type": "stream",
     "text": [
      "1049    1.000000e+00\n",
      "614     1.000000e+00\n",
      "666     9.999997e-01\n",
      "713     9.999983e-01\n",
      "795     9.999972e-01\n",
      "            ...     \n",
      "990     4.103911e-14\n",
      "561     1.913172e-15\n",
      "55      2.604020e-19\n",
      "361     9.620727e-20\n",
      "2862    7.195029e-28\n",
      "Length: 4824, dtype: float64\n"
     ]
    }
   ],
   "source": [
    "print(ig_yhat)"
   ]
  },
  {
   "cell_type": "code",
   "execution_count": 29,
   "metadata": {},
   "outputs": [],
   "source": [
    "\n",
    "dftest = dftest.sort_values(by = 'ig_yhat', ascending = False)\n"
   ]
  },
  {
   "cell_type": "code",
   "execution_count": 33,
   "metadata": {},
   "outputs": [],
   "source": [
    "dftest['IG_Taxable_Quintile'] = pd.qcut(dftest['ig_yhat'], 2, labels=[i for i in range (2, 0, -1)])"
   ]
  },
  {
   "cell_type": "code",
   "execution_count": 34,
   "metadata": {},
   "outputs": [
    {
     "name": "stdout",
     "output_type": "stream",
     "text": [
      "1049    1\n",
      "614     1\n",
      "666     1\n",
      "713     1\n",
      "795     1\n",
      "       ..\n",
      "990     2\n",
      "561     2\n",
      "55      2\n",
      "361     2\n",
      "2862    2\n",
      "Name: IG_Taxable_Quintile, Length: 4824, dtype: category\n",
      "Categories (2, int64): [2 < 1]\n"
     ]
    }
   ],
   "source": [
    "print(dftest['IG_Taxable_Quintile'])"
   ]
  },
  {
   "cell_type": "code",
   "execution_count": 35,
   "metadata": {},
   "outputs": [],
   "source": [
    "dftest['IG_Taxable_Quintile'] = dftest['IG_Taxable_Quintile'].astype('int')"
   ]
  },
  {
   "cell_type": "code",
   "execution_count": 36,
   "metadata": {},
   "outputs": [
    {
     "data": {
      "text/html": [
       "<div>\n",
       "<style scoped>\n",
       "    .dataframe tbody tr th:only-of-type {\n",
       "        vertical-align: middle;\n",
       "    }\n",
       "\n",
       "    .dataframe tbody tr th {\n",
       "        vertical-align: top;\n",
       "    }\n",
       "\n",
       "    .dataframe thead th {\n",
       "        text-align: right;\n",
       "    }\n",
       "</style>\n",
       "<table border=\"1\" class=\"dataframe\">\n",
       "  <thead>\n",
       "    <tr style=\"text-align: right;\">\n",
       "      <th></th>\n",
       "      <th>index</th>\n",
       "      <th>count</th>\n",
       "    </tr>\n",
       "  </thead>\n",
       "  <tbody>\n",
       "    <tr>\n",
       "      <th>0</th>\n",
       "      <td>2</td>\n",
       "      <td>3714</td>\n",
       "    </tr>\n",
       "    <tr>\n",
       "      <th>1</th>\n",
       "      <td>1</td>\n",
       "      <td>1110</td>\n",
       "    </tr>\n",
       "  </tbody>\n",
       "</table>\n",
       "</div>"
      ],
      "text/plain": [
       "   index  count\n",
       "0      2   3714\n",
       "1      1   1110"
      ]
     },
     "execution_count": 36,
     "metadata": {},
     "output_type": "execute_result"
    }
   ],
   "source": [
    "dftest['IG_Taxable_Quintile'].value_counts().reset_index(name='count')\n"
   ]
  },
  {
   "cell_type": "code",
   "execution_count": 37,
   "metadata": {},
   "outputs": [],
   "source": [
    "\n",
    "buyers = pd.crosstab(dftest['IG_Taxable_Quintile'], dftest['ig'], normalize='index')\n",
    "\n"
   ]
  },
  {
   "cell_type": "code",
   "execution_count": 38,
   "metadata": {},
   "outputs": [
    {
     "name": "stdout",
     "output_type": "stream",
     "text": [
      "ig                          0         1\n",
      "IG_Taxable_Quintile                    \n",
      "1                    0.971171  0.028829\n",
      "2                    0.997038  0.002962\n"
     ]
    }
   ],
   "source": [
    "print(buyers)"
   ]
  },
  {
   "cell_type": "code",
   "execution_count": 16,
   "metadata": {},
   "outputs": [
    {
     "data": {
      "text/plain": [
       "IG_Taxable_Quintile\n",
       "1    2546.586622\n",
       "2    1857.779238\n",
       "Name: nuveen_t3m_sales_ig_taxable, dtype: float64"
      ]
     },
     "execution_count": 16,
     "metadata": {},
     "output_type": "execute_result"
    }
   ],
   "source": [
    " dftest.groupby('IG_Taxable_Quintile')['nuveen_t3m_sales_ig_taxable'].mean()"
   ]
  },
  {
   "cell_type": "code",
   "execution_count": 17,
   "metadata": {},
   "outputs": [],
   "source": [
    "dftest['IG_Taxable_Quintile'] = dftest['IG_Taxable_Quintile'].replace([1], 3)\n",
    "dftest['IG_Taxable_Quintile'] = dftest['IG_Taxable_Quintile'].replace([2], 4)"
   ]
  },
  {
   "cell_type": "code",
   "execution_count": 18,
   "metadata": {},
   "outputs": [
    {
     "data": {
      "text/plain": [
       "<AxesSubplot:title={'center':'Proportion of Advisors Buying 2+ Asset Classes and Buying Investment Grade Bond Funds'}, xlabel='IG_Taxable_Quintile'>"
      ]
     },
     "execution_count": 18,
     "metadata": {},
     "output_type": "execute_result"
    },
    {
     "data": {
      "image/png": "[encoded data removed]",
      "text/plain": [
       "<Figure size 432x288 with 1 Axes>"
      ]
     },
     "metadata": {
      "needs_background": "light"
     },
     "output_type": "display_data"
    }
   ],
   "source": [
    "dftest.groupby(by = \"IG_Taxable_Quintile\")['asset2p'].mean().plot(kind = \"bar\", title=\"Proportion of Advisors Buying 2+ Asset Classes and Buying Investment Grade Bond Funds\", color='blue')\n"
   ]
  },
  {
   "cell_type": "code",
   "execution_count": 19,
   "metadata": {},
   "outputs": [
    {
     "data": {
      "text/plain": [
       "<AxesSubplot:title={'center':'Net Sales of Investment Grade Taxable by Model Group for Investment Grade Sales'}, xlabel='IG_Taxable_Quintile'>"
      ]
     },
     "execution_count": 19,
     "metadata": {},
     "output_type": "execute_result"
    },
    {
     "data": {
      "image/png": "[encoded data removed]",
      "text/plain": [
       "<Figure size 432x288 with 1 Axes>"
      ]
     },
     "metadata": {
      "needs_background": "light"
     },
     "output_type": "display_data"
    }
   ],
   "source": [
    "dftest.groupby(by = \"IG_Taxable_Quintile\")['nuveen_t12m_netsl_ig_taxable'].mean().plot(kind = \"bar\", title=\"Net Sales of Investment Grade Taxable by Model Group for Investment Grade Sales\", color='maroon')\n"
   ]
  },
  {
   "cell_type": "code",
   "execution_count": 21,
   "metadata": {},
   "outputs": [],
   "source": [
    "dftest.to_csv('C:/Users/tdougherty1/Desktop/AA490 Spring23/Wells Fargo/WFTest.csv')"
   ]
  }
 ],
 "metadata": {
  "kernelspec": {
   "display_name": "Python 3 (ipykernel)",
   "language": "python",
   "name": "python3"
  },
  "language_info": {
   "codemirror_mode": {
    "name": "ipython",
    "version": 3
   },
   "file_extension": ".py",
   "mimetype": "text/x-python",
   "name": "python",
   "nbconvert_exporter": "python",
   "pygments_lexer": "ipython3",
   "version": "3.8.5"
  }
 },
 "nbformat": 4,
 "nbformat_minor": 4
}
