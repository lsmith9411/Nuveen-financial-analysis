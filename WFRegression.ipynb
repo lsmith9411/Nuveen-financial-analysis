{
 "cells": [
  {
   "cell_type": "code",
   "execution_count": 1,
   "metadata": {},
   "outputs": [],
   "source": [
    "import pandas as pd\n",
    "import numpy as np\n",
    "import statsmodels.api as sm\n",
    "\n"
   ]
  },
  {
   "cell_type": "code",
   "execution_count": 2,
   "metadata": {},
   "outputs": [],
   "source": [
    "dftrain=pd.read_csv('C:/Users/student/Documents/Senior/Spring/Capstone/Nuveen/WF_Train_round1.csv')\n",
    "dftest=pd.read_csv('C:/Users/student/Documents/Senior/Spring/Capstone/Nuveen/WF_Test_round1.csv')"
   ]
  },
  {
   "cell_type": "code",
   "execution_count": 38,
   "metadata": {},
   "outputs": [],
   "source": [
    "x = dftrain[[ 't12m_sales_ig_taxable', 't12m_sales_muni_bonds','t12m_sales_other', 'nuveen_t12m_sales_hy_taxable', \n",
    "             'nuveen_t12m_sales_total', 't24m_sales_int_bonds',\n",
    "             't24m_sales_ig_taxable', 't24m_sales_muni_bonds', 'nuveen_t24m_sales_hy_taxable', 'nuveen_t12m_reds_other',\n",
    "             't24m_reds_int_bonds', 'nuveen_t24m_reds_ig_taxable', 'mf_aum_int_bonds', 'mf_aum_other', \n",
    "             'mf_aum_total', 't12m_netsl_hy_taxable',\n",
    "             'nuveen_t12m_netsl_hy_taxable', 't24m_netsl_other', 't24m_netsl_us_equity']]\n",
    "y = dftrain['nuveen_t3m_sales_total']"
   ]
  },
  {
   "cell_type": "code",
   "execution_count": 39,
   "metadata": {},
   "outputs": [
    {
     "name": "stdout",
     "output_type": "stream",
     "text": [
      "                                   OLS Regression Results                                  \n",
      "===========================================================================================\n",
      "Dep. Variable:     nuveen_t3m_sales_total   R-squared (uncentered):                   0.388\n",
      "Model:                                OLS   Adj. R-squared (uncentered):              0.386\n",
      "Method:                     Least Squares   F-statistic:                              160.5\n",
      "Date:                    Wed, 22 Mar 2023   Prob (F-statistic):                        0.00\n",
      "Time:                            19:21:01   Log-Likelihood:                         -67066.\n",
      "No. Observations:                    4824   AIC:                                  1.342e+05\n",
      "Df Residuals:                        4805   BIC:                                  1.343e+05\n",
      "Df Model:                              19                                                  \n",
      "Covariance Type:                nonrobust                                                  \n",
      "================================================================================================\n",
      "                                   coef    std err          t      P>|t|      [0.025      0.975]\n",
      "------------------------------------------------------------------------------------------------\n",
      "t12m_sales_ig_taxable           -0.0071      0.002     -3.065      0.002      -0.012      -0.003\n",
      "t12m_sales_muni_bonds            0.0157      0.003      5.776      0.000       0.010       0.021\n",
      "t12m_sales_other                -0.0114      0.002     -5.469      0.000      -0.016      -0.007\n",
      "nuveen_t12m_sales_hy_taxable    -0.0967      0.060     -1.616      0.106      -0.214       0.021\n",
      "nuveen_t12m_sales_total          0.1427      0.007     20.458      0.000       0.129       0.156\n",
      "t24m_sales_int_bonds             0.2525      0.019     13.480      0.000       0.216       0.289\n",
      "t24m_sales_ig_taxable            0.0014      0.001      1.325      0.185      -0.001       0.003\n",
      "t24m_sales_muni_bonds           -0.0106      0.001     -7.100      0.000      -0.014      -0.008\n",
      "nuveen_t24m_sales_hy_taxable    -0.0454      0.053     -0.853      0.394      -0.150       0.059\n",
      "nuveen_t12m_reds_other           0.1509      0.008     18.747      0.000       0.135       0.167\n",
      "t24m_reds_int_bonds             -0.0818      0.015     -5.554      0.000      -0.111      -0.053\n",
      "nuveen_t24m_reds_ig_taxable      0.1073      0.025      4.357      0.000       0.059       0.156\n",
      "mf_aum_int_bonds                -0.1108      0.015     -7.295      0.000      -0.141      -0.081\n",
      "mf_aum_other                    -0.0016      0.001     -2.514      0.012      -0.003      -0.000\n",
      "mf_aum_total                     0.0018      0.000      9.037      0.000       0.001       0.002\n",
      "t12m_netsl_hy_taxable           -0.0201      0.004     -5.689      0.000      -0.027      -0.013\n",
      "nuveen_t12m_netsl_hy_taxable     0.0197      0.035      0.560      0.576      -0.049       0.089\n",
      "t24m_netsl_other                 0.0109      0.002      6.590      0.000       0.008       0.014\n",
      "t24m_netsl_us_equity            -0.0037      0.001     -3.339      0.001      -0.006      -0.002\n",
      "==============================================================================\n",
      "Omnibus:                     7808.428   Durbin-Watson:                   1.968\n",
      "Prob(Omnibus):                  0.000   Jarque-Bera (JB):          9897979.317\n",
      "Skew:                          10.282   Prob(JB):                         0.00\n",
      "Kurtosis:                     223.954   Cond. No.                     1.12e+03\n",
      "==============================================================================\n",
      "\n",
      "Notes:\n",
      "[1] R² is computed without centering (uncentered) since the model does not contain a constant.\n",
      "[2] Standard Errors assume that the covariance matrix of the errors is correctly specified.\n",
      "[3] The condition number is large, 1.12e+03. This might indicate that there are\n",
      "strong multicollinearity or other numerical problems.\n"
     ]
    }
   ],
   "source": [
    "## minimize the sum of squared residuals\n",
    "model = sm.OLS(y, x)\n",
    "results = model.fit()\n",
    "print(results.summary())"
   ]
  },
  {
   "cell_type": "code",
   "execution_count": 40,
   "metadata": {},
   "outputs": [],
   "source": [
    "Xtest = dftest[['t12m_sales_ig_taxable', 't12m_sales_muni_bonds','t12m_sales_other', 'nuveen_t12m_sales_hy_taxable', \n",
    "             'nuveen_t12m_sales_total', 't24m_sales_int_bonds',\n",
    "             't24m_sales_ig_taxable', 't24m_sales_muni_bonds', 'nuveen_t24m_sales_hy_taxable', 'nuveen_t12m_reds_other',\n",
    "             't24m_reds_int_bonds', 'nuveen_t24m_reds_ig_taxable', 'mf_aum_int_bonds', 'mf_aum_other', \n",
    "             'mf_aum_total', 't12m_netsl_hy_taxable',\n",
    "             'nuveen_t12m_netsl_hy_taxable', 't24m_netsl_other', 't24m_netsl_us_equity']]\n",
    "ytest = dftest[['nuveen_t3m_sales_total']]\n",
    "\n"
   ]
  },
  {
   "cell_type": "code",
   "execution_count": 41,
   "metadata": {},
   "outputs": [],
   "source": [
    "yhat2 = results.predict(Xtest)"
   ]
  },
  {
   "cell_type": "code",
   "execution_count": 42,
   "metadata": {},
   "outputs": [
    {
     "name": "stdout",
     "output_type": "stream",
     "text": [
      "2401    4.593517e+06\n",
      "4012    2.370553e+06\n",
      "106     2.256275e+06\n",
      "3600    2.077785e+06\n",
      "2773    2.039227e+06\n",
      "            ...     \n",
      "3737   -4.674679e+05\n",
      "10     -5.201560e+05\n",
      "1073   -5.294563e+05\n",
      "3629   -6.662500e+05\n",
      "572    -7.015505e+05\n",
      "Length: 4824, dtype: float64\n"
     ]
    }
   ],
   "source": [
    "print(yhat2)"
   ]
  },
  {
   "cell_type": "code",
   "execution_count": 43,
   "metadata": {},
   "outputs": [],
   "source": [
    "dftest['yhat2'] = yhat2"
   ]
  },
  {
   "cell_type": "code",
   "execution_count": 44,
   "metadata": {},
   "outputs": [],
   "source": [
    "\n",
    "dftest = dftest.sort_values(by = 'yhat2', ascending = False)\n"
   ]
  },
  {
   "cell_type": "code",
   "execution_count": 45,
   "metadata": {},
   "outputs": [],
   "source": [
    "dftest['Quintile'] = pd.qcut(dftest['yhat2'], 5, labels=[i for i in range (5, 0, -1)])"
   ]
  },
  {
   "cell_type": "code",
   "execution_count": 46,
   "metadata": {},
   "outputs": [
    {
     "name": "stdout",
     "output_type": "stream",
     "text": [
      "2401    1\n",
      "4012    1\n",
      "106     1\n",
      "3600    1\n",
      "2773    1\n",
      "       ..\n",
      "3737    5\n",
      "10      5\n",
      "1073    5\n",
      "3629    5\n",
      "572     5\n",
      "Name: Quintile, Length: 4824, dtype: category\n",
      "Categories (5, int64): [5 < 4 < 3 < 2 < 1]\n"
     ]
    }
   ],
   "source": [
    "print(dftest['Quintile'])"
   ]
  },
  {
   "cell_type": "code",
   "execution_count": 47,
   "metadata": {},
   "outputs": [],
   "source": [
    "dftest['Quintile'] = dftest['Quintile'].astype('int')"
   ]
  },
  {
   "cell_type": "code",
   "execution_count": 48,
   "metadata": {},
   "outputs": [
    {
     "data": {
      "text/html": [
       "<div>\n",
       "<style scoped>\n",
       "    .dataframe tbody tr th:only-of-type {\n",
       "        vertical-align: middle;\n",
       "    }\n",
       "\n",
       "    .dataframe tbody tr th {\n",
       "        vertical-align: top;\n",
       "    }\n",
       "\n",
       "    .dataframe thead th {\n",
       "        text-align: right;\n",
       "    }\n",
       "</style>\n",
       "<table border=\"1\" class=\"dataframe\">\n",
       "  <thead>\n",
       "    <tr style=\"text-align: right;\">\n",
       "      <th></th>\n",
       "      <th>index</th>\n",
       "      <th>count</th>\n",
       "    </tr>\n",
       "  </thead>\n",
       "  <tbody>\n",
       "    <tr>\n",
       "      <th>0</th>\n",
       "      <td>2</td>\n",
       "      <td>965</td>\n",
       "    </tr>\n",
       "    <tr>\n",
       "      <th>1</th>\n",
       "      <td>5</td>\n",
       "      <td>965</td>\n",
       "    </tr>\n",
       "    <tr>\n",
       "      <th>2</th>\n",
       "      <td>1</td>\n",
       "      <td>965</td>\n",
       "    </tr>\n",
       "    <tr>\n",
       "      <th>3</th>\n",
       "      <td>4</td>\n",
       "      <td>965</td>\n",
       "    </tr>\n",
       "    <tr>\n",
       "      <th>4</th>\n",
       "      <td>3</td>\n",
       "      <td>964</td>\n",
       "    </tr>\n",
       "  </tbody>\n",
       "</table>\n",
       "</div>"
      ],
      "text/plain": [
       "   index  count\n",
       "0      2    965\n",
       "1      5    965\n",
       "2      1    965\n",
       "3      4    965\n",
       "4      3    964"
      ]
     },
     "execution_count": 48,
     "metadata": {},
     "output_type": "execute_result"
    }
   ],
   "source": [
    "dftest['Quintile'].value_counts().reset_index(name='count')\n"
   ]
  },
  {
   "cell_type": "code",
   "execution_count": 49,
   "metadata": {},
   "outputs": [
    {
     "data": {
      "text/plain": [
       "Quintile\n",
       "1    177772.281782\n",
       "2     34171.728570\n",
       "3      5518.650954\n",
       "4      5096.057368\n",
       "5     12983.860342\n",
       "Name: nuveen_t3m_sales_total, dtype: float64"
      ]
     },
     "execution_count": 49,
     "metadata": {},
     "output_type": "execute_result"
    }
   ],
   "source": [
    "\n",
    " dftest.groupby('Quintile')[''].mean()"
   ]
  },
  {
   "cell_type": "code",
   "execution_count": 50,
   "metadata": {},
   "outputs": [],
   "source": [
    "\n",
    "buyers = pd.crosstab(dftest['Quintile'], dftest['total'], normalize='index')\n",
    "\n"
   ]
  },
  {
   "cell_type": "code",
   "execution_count": 51,
   "metadata": {},
   "outputs": [
    {
     "name": "stdout",
     "output_type": "stream",
     "text": [
      "total            0         1\n",
      "Quintile                    \n",
      "1         0.470466  0.529534\n",
      "2         0.696373  0.303627\n",
      "3         0.812241  0.187759\n",
      "4         0.896373  0.103627\n",
      "5         0.867358  0.132642\n"
     ]
    }
   ],
   "source": [
    "print(buyers)"
   ]
  },
  {
   "cell_type": "code",
   "execution_count": 52,
   "metadata": {},
   "outputs": [
    {
     "data": {
      "text/plain": [
       "Quintile\n",
       "1    177772.281782\n",
       "2     34171.728570\n",
       "3      5518.650954\n",
       "4      5096.057368\n",
       "5     12983.860342\n",
       "Name: nuveen_t3m_sales_total, dtype: float64"
      ]
     },
     "execution_count": 52,
     "metadata": {},
     "output_type": "execute_result"
    }
   ],
   "source": [
    " dftest.groupby('Quintile')['nuveen_t3m_sales_total'].mean()"
   ]
  },
  {
   "cell_type": "code",
   "execution_count": 63,
   "metadata": {},
   "outputs": [
    {
     "data": {
      "text/plain": [
       "<AxesSubplot:title={'center':'nuveen_t12m_netsl_hy_taxable by Quintile'}, xlabel='Quintile'>"
      ]
     },
     "execution_count": 63,
     "metadata": {},
     "output_type": "execute_result"
    },
    {
     "data": {
      "image/png": "[encoded data removed]",
      "text/plain": [
       "<Figure size 432x288 with 1 Axes>"
      ]
     },
     "metadata": {
      "needs_background": "light"
     },
     "output_type": "display_data"
    }
   ],
   "source": [
    "dftest.groupby(by = \"Quintile\")['nuveen_t12m_netsl_hy_taxable'].mean().plot(kind = \"bar\", title=\"nuveen_t12m_netsl_hy_taxable by Quintile\", color='cyan')\n"
   ]
  },
  {
   "cell_type": "code",
   "execution_count": null,
   "metadata": {},
   "outputs": [],
   "source": []
  }
 ],
 "metadata": {
  "kernelspec": {
   "display_name": "Python 3 (ipykernel)",
   "language": "python",
   "name": "python3"
  },
  "language_info": {
   "codemirror_mode": {
    "name": "ipython",
    "version": 3
   },
   "file_extension": ".py",
   "mimetype": "text/x-python",
   "name": "python",
   "nbconvert_exporter": "python",
   "pygments_lexer": "ipython3",
   "version": "3.8.5"
  }
 },
 "nbformat": 4,
 "nbformat_minor": 4
}
