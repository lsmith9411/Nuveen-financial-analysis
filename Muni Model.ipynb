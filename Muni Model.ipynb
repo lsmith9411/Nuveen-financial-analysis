{
 "cells": [
  {
   "cell_type": "code",
   "execution_count": 1,
   "metadata": {},
   "outputs": [],
   "source": [
    "import pandas as pd\n",
    "import numpy as np\n",
    "import statsmodels.formula.api as sm\n",
    "\n"
   ]
  },
  {
   "cell_type": "code",
   "execution_count": 2,
   "metadata": {},
   "outputs": [],
   "source": [
    "dftrain=pd.read_csv('C:/Users/student/Documents/Senior/Spring/Capstone/Nuveen/WF_Train_round1.csv')"
   ]
  },
  {
   "cell_type": "code",
   "execution_count": 3,
   "metadata": {},
   "outputs": [],
   "source": [
    "dftest=pd.read_csv('C:/Users/student/Documents/Senior/Spring/Capstone/Nuveen/WF_Test_round1.csv', low_memory=False)"
   ]
  },
  {
   "cell_type": "code",
   "execution_count": 4,
   "metadata": {},
   "outputs": [
    {
     "data": {
      "text/plain": [
       "7920237.95"
      ]
     },
     "execution_count": 4,
     "metadata": {},
     "output_type": "execute_result"
    }
   ],
   "source": [
    "\n",
    "dftrain['nuveen_t3m_sales_muni_bonds'].max()"
   ]
  },
  {
   "cell_type": "code",
   "execution_count": 5,
   "metadata": {},
   "outputs": [
    {
     "data": {
      "text/plain": [
       "7920237.95"
      ]
     },
     "execution_count": 5,
     "metadata": {},
     "output_type": "execute_result"
    }
   ],
   "source": [
    "dftest['nuveen_t3m_sales_muni_bonds'].max()"
   ]
  },
  {
   "cell_type": "code",
   "execution_count": 6,
   "metadata": {},
   "outputs": [
    {
     "data": {
      "text/plain": [
       "(4824, 187)"
      ]
     },
     "execution_count": 6,
     "metadata": {},
     "output_type": "execute_result"
    }
   ],
   "source": [
    "dftrain.shape"
   ]
  },
  {
   "cell_type": "code",
   "execution_count": 7,
   "metadata": {},
   "outputs": [],
   "source": [
    "dftrain.drop(dftrain.index[dftrain['nuveen_t3m_sales_muni_bonds'] >= 4000000], inplace=True)"
   ]
  },
  {
   "cell_type": "code",
   "execution_count": 8,
   "metadata": {},
   "outputs": [
    {
     "data": {
      "text/plain": [
       "(4821, 187)"
      ]
     },
     "execution_count": 8,
     "metadata": {},
     "output_type": "execute_result"
    }
   ],
   "source": [
    "dftrain.shape"
   ]
  },
  {
   "cell_type": "code",
   "execution_count": 9,
   "metadata": {},
   "outputs": [
    {
     "data": {
      "text/plain": [
       "(4824, 187)"
      ]
     },
     "execution_count": 9,
     "metadata": {},
     "output_type": "execute_result"
    }
   ],
   "source": [
    "dftest.shape"
   ]
  },
  {
   "cell_type": "code",
   "execution_count": 10,
   "metadata": {},
   "outputs": [],
   "source": [
    "dftest.drop(dftest.index[dftest['nuveen_t3m_sales_muni_bonds'] >= 4000000], inplace=True)"
   ]
  },
  {
   "cell_type": "code",
   "execution_count": 11,
   "metadata": {},
   "outputs": [
    {
     "data": {
      "text/plain": [
       "(4823, 187)"
      ]
     },
     "execution_count": 11,
     "metadata": {},
     "output_type": "execute_result"
    }
   ],
   "source": [
    "dftest.shape"
   ]
  },
  {
   "cell_type": "code",
   "execution_count": 12,
   "metadata": {
    "scrolled": true
   },
   "outputs": [
    {
     "name": "stdout",
     "output_type": "stream",
     "text": [
      "Optimization terminated successfully.\n",
      "         Current function value: 0.326864\n",
      "         Iterations 7\n",
      "                           Logit Regression Results                           \n",
      "==============================================================================\n",
      "Dep. Variable:                   muni   No. Observations:                 4821\n",
      "Model:                          Logit   Df Residuals:                     4808\n",
      "Method:                           MLE   Df Model:                           12\n",
      "Date:                Wed, 05 Apr 2023   Pseudo R-squ.:                  0.2444\n",
      "Time:                        19:49:20   Log-Likelihood:                -1575.8\n",
      "converged:                       True   LL-Null:                       -2085.6\n",
      "Covariance Type:            nonrobust   LLR p-value:                1.196e-210\n",
      "================================================================================================\n",
      "                                   coef    std err          z      P>|z|      [0.025      0.975]\n",
      "------------------------------------------------------------------------------------------------\n",
      "Intercept                       -2.9315      0.089    -33.049      0.000      -3.105      -2.758\n",
      "t12m_sales_us_equity          7.379e-08   1.53e-08      4.809      0.000    4.37e-08    1.04e-07\n",
      "nuveen_t12m_sales_muni_bonds   2.41e-06   2.54e-07      9.487      0.000    1.91e-06    2.91e-06\n",
      "nuveen_t24m_sales_hy_taxable -1.408e-06   4.02e-07     -3.503      0.000    -2.2e-06    -6.2e-07\n",
      "t12m_reds_int_equity         -1.052e-07   3.72e-08     -2.825      0.005   -1.78e-07   -3.22e-08\n",
      "t12m_reds_muni_bonds         -5.614e-08   1.85e-08     -3.038      0.002   -9.24e-08   -1.99e-08\n",
      "mf_aum_ig_taxable             3.379e-08   6.92e-09      4.884      0.000    2.02e-08    4.73e-08\n",
      "mf_aum_muni_bonds             2.665e-08    7.5e-09      3.555      0.000     1.2e-08    4.13e-08\n",
      "t24m_netsl_us_equity         -1.646e-08   1.27e-08     -1.296      0.195   -4.14e-08    8.43e-09\n",
      "asset2p                          1.6122      0.104     15.564      0.000       1.409       1.815\n",
      "asset3p                          0.5703      0.162      3.510      0.000       0.252       0.889\n",
      "young                            0.3009      0.115      2.611      0.009       0.075       0.527\n",
      "old                             -0.1355      0.117     -1.159      0.246      -0.365       0.094\n",
      "================================================================================================\n"
     ]
    }
   ],
   "source": [
    "\n",
    "model = sm.logit(formula='muni ~ t12m_sales_us_equity+nuveen_t12m_sales_muni_bonds+nuveen_t24m_sales_hy_taxable+\\\n",
    "                 t12m_reds_int_equity+t12m_reds_muni_bonds+mf_aum_ig_taxable+mf_aum_muni_bonds+\\\n",
    "                 t24m_netsl_us_equity+asset2p+asset3p+young+old', data=dftrain).fit()\n",
    "print(model.summary())"
   ]
  },
  {
   "cell_type": "code",
   "execution_count": 13,
   "metadata": {},
   "outputs": [],
   "source": [
    "\n",
    "Xtest = dftest[['t12m_sales_us_equity', 'nuveen_t12m_sales_muni_bonds', 'nuveen_t24m_sales_hy_taxable',\\\n",
    "                't12m_reds_int_equity', 't12m_reds_muni_bonds', 'mf_aum_ig_taxable', 'mf_aum_muni_bonds',\\\n",
    "                 't24m_netsl_us_equity', 'asset2p', 'asset3p', 'young', 'old']]\n",
    "ytest = dftest['muni']\n",
    "  \n",
    "muni_yhat = model.predict(Xtest)\n"
   ]
  },
  {
   "cell_type": "code",
   "execution_count": 14,
   "metadata": {},
   "outputs": [],
   "source": [
    "dftest['muni_yhat'] = muni_yhat"
   ]
  },
  {
   "cell_type": "code",
   "execution_count": 15,
   "metadata": {},
   "outputs": [
    {
     "name": "stdout",
     "output_type": "stream",
     "text": [
      "0       0.045812\n",
      "1       0.059427\n",
      "2       0.057869\n",
      "3       0.058392\n",
      "4       0.144870\n",
      "          ...   \n",
      "4819    0.050723\n",
      "4820    0.274447\n",
      "4821    0.070302\n",
      "4822    0.298847\n",
      "4823    0.051686\n",
      "Length: 4823, dtype: float64\n"
     ]
    }
   ],
   "source": [
    "print(muni_yhat)"
   ]
  },
  {
   "cell_type": "code",
   "execution_count": 16,
   "metadata": {},
   "outputs": [],
   "source": [
    "\n",
    "dftest = dftest.sort_values(by = 'muni_yhat', ascending = False)\n"
   ]
  },
  {
   "cell_type": "code",
   "execution_count": 17,
   "metadata": {},
   "outputs": [],
   "source": [
    "dftest['Muni_Equity_Quintile'] = pd.qcut(dftest['muni_yhat'], 5, labels=[i for i in range (5, 0, -1)])"
   ]
  },
  {
   "cell_type": "code",
   "execution_count": 18,
   "metadata": {},
   "outputs": [
    {
     "name": "stdout",
     "output_type": "stream",
     "text": [
      "1060    1\n",
      "3511    1\n",
      "2401    1\n",
      "3148    1\n",
      "2427    1\n",
      "       ..\n",
      "2419    5\n",
      "3079    5\n",
      "3886    5\n",
      "4178    5\n",
      "1023    5\n",
      "Name: Muni_Equity_Quintile, Length: 4823, dtype: category\n",
      "Categories (5, int64): [5 < 4 < 3 < 2 < 1]\n"
     ]
    }
   ],
   "source": [
    "print(dftest['Muni_Equity_Quintile'])"
   ]
  },
  {
   "cell_type": "code",
   "execution_count": 19,
   "metadata": {},
   "outputs": [],
   "source": [
    "dftest['Muni_Equity_Quintile'] = dftest['Muni_Equity_Quintile'].astype('int')"
   ]
  },
  {
   "cell_type": "code",
   "execution_count": 20,
   "metadata": {},
   "outputs": [
    {
     "data": {
      "text/html": [
       "<div>\n",
       "<style scoped>\n",
       "    .dataframe tbody tr th:only-of-type {\n",
       "        vertical-align: middle;\n",
       "    }\n",
       "\n",
       "    .dataframe tbody tr th {\n",
       "        vertical-align: top;\n",
       "    }\n",
       "\n",
       "    .dataframe thead th {\n",
       "        text-align: right;\n",
       "    }\n",
       "</style>\n",
       "<table border=\"1\" class=\"dataframe\">\n",
       "  <thead>\n",
       "    <tr style=\"text-align: right;\">\n",
       "      <th></th>\n",
       "      <th>index</th>\n",
       "      <th>count</th>\n",
       "    </tr>\n",
       "  </thead>\n",
       "  <tbody>\n",
       "    <tr>\n",
       "      <th>0</th>\n",
       "      <td>3</td>\n",
       "      <td>965</td>\n",
       "    </tr>\n",
       "    <tr>\n",
       "      <th>1</th>\n",
       "      <td>5</td>\n",
       "      <td>965</td>\n",
       "    </tr>\n",
       "    <tr>\n",
       "      <th>2</th>\n",
       "      <td>1</td>\n",
       "      <td>965</td>\n",
       "    </tr>\n",
       "    <tr>\n",
       "      <th>3</th>\n",
       "      <td>2</td>\n",
       "      <td>964</td>\n",
       "    </tr>\n",
       "    <tr>\n",
       "      <th>4</th>\n",
       "      <td>4</td>\n",
       "      <td>964</td>\n",
       "    </tr>\n",
       "  </tbody>\n",
       "</table>\n",
       "</div>"
      ],
      "text/plain": [
       "   index  count\n",
       "0      3    965\n",
       "1      5    965\n",
       "2      1    965\n",
       "3      2    964\n",
       "4      4    964"
      ]
     },
     "execution_count": 20,
     "metadata": {},
     "output_type": "execute_result"
    }
   ],
   "source": [
    "dftest['Muni_Equity_Quintile'].value_counts().reset_index(name='count')\n"
   ]
  },
  {
   "cell_type": "code",
   "execution_count": 21,
   "metadata": {},
   "outputs": [],
   "source": [
    "\n",
    "buyers = pd.crosstab(dftest['Muni_Equity_Quintile'], dftest['muni'], normalize='index')\n",
    "\n"
   ]
  },
  {
   "cell_type": "code",
   "execution_count": 22,
   "metadata": {},
   "outputs": [
    {
     "name": "stdout",
     "output_type": "stream",
     "text": [
      "muni                         0         1\n",
      "Muni_Equity_Quintile                    \n",
      "1                     0.503627  0.496373\n",
      "2                     0.831950  0.168050\n",
      "3                     0.946114  0.053886\n",
      "4                     0.973029  0.026971\n",
      "5                     0.986528  0.013472\n"
     ]
    }
   ],
   "source": [
    "print(buyers)"
   ]
  },
  {
   "cell_type": "code",
   "execution_count": 23,
   "metadata": {},
   "outputs": [
    {
     "data": {
      "text/plain": [
       "Muni_Equity_Quintile\n",
       "1    80864.749554\n",
       "2    15654.994378\n",
       "3     1431.291565\n",
       "4     1436.191660\n",
       "5     1838.519358\n",
       "Name: nuveen_t3m_sales_muni_bonds, dtype: float64"
      ]
     },
     "execution_count": 23,
     "metadata": {},
     "output_type": "execute_result"
    }
   ],
   "source": [
    " dftest.groupby('Muni_Equity_Quintile')['nuveen_t3m_sales_muni_bonds'].mean()"
   ]
  },
  {
   "cell_type": "code",
   "execution_count": 24,
   "metadata": {},
   "outputs": [
    {
     "data": {
      "text/plain": [
       "<AxesSubplot:title={'center':'Proportion of Advisors Buying 2+ Asset Classes and Buying Muni Bond Funds'}, xlabel='Muni_Equity_Quintile'>"
      ]
     },
     "execution_count": 24,
     "metadata": {},
     "output_type": "execute_result"
    },
    {
     "data": {
      "image/png": "[encoded data removed]",
      "text/plain": [
       "<Figure size 432x288 with 1 Axes>"
      ]
     },
     "metadata": {
      "needs_background": "light"
     },
     "output_type": "display_data"
    }
   ],
   "source": [
    "dftest.groupby(by = \"Muni_Equity_Quintile\")['asset2p'].mean().plot(kind = \"bar\", title=\"Proportion of Advisors Buying 2+ Asset Classes and Buying Muni Bond Funds\", color='blue')\n"
   ]
  },
  {
   "cell_type": "code",
   "execution_count": 25,
   "metadata": {},
   "outputs": [
    {
     "data": {
      "text/plain": [
       "<AxesSubplot:title={'center':'Sales of Muni Bond Fund Sales to advisors 45+ by Quintile'}, xlabel='Muni_Equity_Quintile'>"
      ]
     },
     "execution_count": 25,
     "metadata": {},
     "output_type": "execute_result"
    },
    {
     "data": {
      "image/png": "[encoded data removed]",
      "text/plain": [
       "<Figure size 432x288 with 1 Axes>"
      ]
     },
     "metadata": {
      "needs_background": "light"
     },
     "output_type": "display_data"
    }
   ],
   "source": [
    "dftest.groupby(by = \"Muni_Equity_Quintile\")['old'].mean().plot(kind = \"bar\", title=\"Sales of Muni Bond Fund Sales to advisors 45+ by Quintile\", color='blue')\n"
   ]
  },
  {
   "cell_type": "code",
   "execution_count": 70,
   "metadata": {},
   "outputs": [],
   "source": [
    "dftest.to_csv('C:/Users/tdougherty1/Desktop/AA490 Spring23/Wells Fargo/WFTest.csv')"
   ]
  }
 ],
 "metadata": {
  "kernelspec": {
   "display_name": "Python 3 (ipykernel)",
   "language": "python",
   "name": "python3"
  },
  "language_info": {
   "codemirror_mode": {
    "name": "ipython",
    "version": 3
   },
   "file_extension": ".py",
   "mimetype": "text/x-python",
   "name": "python",
   "nbconvert_exporter": "python",
   "pygments_lexer": "ipython3",
   "version": "3.8.5"
  }
 },
 "nbformat": 4,
 "nbformat_minor": 4
}
