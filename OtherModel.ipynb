{
 "cells": [
  {
   "cell_type": "code",
   "execution_count": 52,
   "metadata": {},
   "outputs": [],
   "source": [
    "import pandas as pd\n",
    "import numpy as np\n",
    "import statsmodels.formula.api as sm\n",
    "\n"
   ]
  },
  {
   "cell_type": "code",
   "execution_count": 53,
   "metadata": {},
   "outputs": [],
   "source": [
    "dftrain=pd.read_csv('C:/Users/tdougherty1/Desktop/AA490 Spring23/Wells Fargo/WFTrain.csv')"
   ]
  },
  {
   "cell_type": "code",
   "execution_count": 54,
   "metadata": {},
   "outputs": [],
   "source": [
    "dftest=pd.read_csv('C:/Users/tdougherty1/Desktop/AA490 Spring23/Wells Fargo/WFTest.csv', low_memory=False)"
   ]
  },
  {
   "cell_type": "markdown",
   "metadata": {},
   "source": [
    "model = sm.logit(formula='other ~ nuveen_t12m_sales_other+t24m_sales_muni_bonds+t24m_reds_other+\\\n",
    "                 asset2p', data=dftrain).fit()\n",
    "print(model.summary())\n",
    "\n",
    "\n"
   ]
  },
  {
   "cell_type": "code",
   "execution_count": 57,
   "metadata": {},
   "outputs": [
    {
     "name": "stdout",
     "output_type": "stream",
     "text": [
      "Optimization terminated successfully.\n",
      "         Current function value: 0.283181\n",
      "         Iterations 8\n",
      "                           Logit Regression Results                           \n",
      "==============================================================================\n",
      "Dep. Variable:                  other   No. Observations:                 4824\n",
      "Model:                          Logit   Df Residuals:                     4820\n",
      "Method:                           MLE   Df Model:                            3\n",
      "Date:                Sun, 09 Apr 2023   Pseudo R-squ.:                  0.2972\n",
      "Time:                        16:23:31   Log-Likelihood:                -1366.1\n",
      "converged:                       True   LL-Null:                       -1943.8\n",
      "Covariance Type:            nonrobust   LLR p-value:                3.402e-250\n",
      "===========================================================================================\n",
      "                              coef    std err          z      P>|z|      [0.025      0.975]\n",
      "-------------------------------------------------------------------------------------------\n",
      "Intercept                  -3.1224      0.083    -37.568      0.000      -3.285      -2.960\n",
      "nuveen_t12m_sales_other  2.321e-06   2.67e-07      8.705      0.000     1.8e-06    2.84e-06\n",
      "t24m_reds_other          3.454e-08   1.05e-08      3.279      0.001    1.39e-08    5.52e-08\n",
      "asset2p                     2.3641      0.105     22.601      0.000       2.159       2.569\n",
      "===========================================================================================\n"
     ]
    }
   ],
   "source": [
    "model = sm.logit(formula='other ~ nuveen_t12m_sales_other+t24m_reds_other+\\\n",
    "                 asset2p', data=dftrain).fit()\n",
    "print(model.summary())"
   ]
  },
  {
   "cell_type": "code",
   "execution_count": 58,
   "metadata": {},
   "outputs": [],
   "source": [
    "\n",
    "Xtest = dftest[['nuveen_t12m_sales_other', 't24m_reds_other', 'asset2p']]\n",
    "ytest = dftest['other']\n",
    "  \n",
    "other_yhat = model.predict(Xtest)\n"
   ]
  },
  {
   "cell_type": "code",
   "execution_count": 59,
   "metadata": {},
   "outputs": [],
   "source": [
    "dftest['other_yhat'] = other_yhat"
   ]
  },
  {
   "cell_type": "code",
   "execution_count": 60,
   "metadata": {},
   "outputs": [
    {
     "name": "stdout",
     "output_type": "stream",
     "text": [
      "0       0.424719\n",
      "1       0.573752\n",
      "2       0.786751\n",
      "3       0.897846\n",
      "4       0.813045\n",
      "          ...   \n",
      "4818    0.401542\n",
      "4819    0.426679\n",
      "4820    0.413468\n",
      "4821    0.999942\n",
      "4822    0.111477\n",
      "Length: 4823, dtype: float64\n"
     ]
    }
   ],
   "source": [
    "print(other_yhat)"
   ]
  },
  {
   "cell_type": "code",
   "execution_count": 61,
   "metadata": {},
   "outputs": [],
   "source": [
    "\n",
    "dftest = dftest.sort_values(by = 'other_yhat', ascending = False)\n"
   ]
  },
  {
   "cell_type": "code",
   "execution_count": 62,
   "metadata": {},
   "outputs": [],
   "source": [
    "dftest['Other_Quintile'] = pd.qcut(dftest['other_yhat'], 5, labels=[i for i in range (5, 0, -1)])"
   ]
  },
  {
   "cell_type": "code",
   "execution_count": 63,
   "metadata": {},
   "outputs": [
    {
     "name": "stdout",
     "output_type": "stream",
     "text": [
      "577     1\n",
      "387     1\n",
      "4815    1\n",
      "473     1\n",
      "4475    1\n",
      "       ..\n",
      "2400    5\n",
      "4445    5\n",
      "4636    5\n",
      "4635    5\n",
      "3930    5\n",
      "Name: Other_Quintile, Length: 4823, dtype: category\n",
      "Categories (5, int64): [5 < 4 < 3 < 2 < 1]\n"
     ]
    }
   ],
   "source": [
    "print(dftest['Other_Quintile'])"
   ]
  },
  {
   "cell_type": "code",
   "execution_count": 64,
   "metadata": {},
   "outputs": [],
   "source": [
    "dftest['Other_Quintile'] = dftest['Other_Quintile'].astype('int')"
   ]
  },
  {
   "cell_type": "code",
   "execution_count": 65,
   "metadata": {},
   "outputs": [
    {
     "data": {
      "text/html": [
       "<div>\n",
       "<style scoped>\n",
       "    .dataframe tbody tr th:only-of-type {\n",
       "        vertical-align: middle;\n",
       "    }\n",
       "\n",
       "    .dataframe tbody tr th {\n",
       "        vertical-align: top;\n",
       "    }\n",
       "\n",
       "    .dataframe thead th {\n",
       "        text-align: right;\n",
       "    }\n",
       "</style>\n",
       "<table border=\"1\" class=\"dataframe\">\n",
       "  <thead>\n",
       "    <tr style=\"text-align: right;\">\n",
       "      <th></th>\n",
       "      <th>index</th>\n",
       "      <th>count</th>\n",
       "    </tr>\n",
       "  </thead>\n",
       "  <tbody>\n",
       "    <tr>\n",
       "      <th>0</th>\n",
       "      <td>3</td>\n",
       "      <td>965</td>\n",
       "    </tr>\n",
       "    <tr>\n",
       "      <th>1</th>\n",
       "      <td>5</td>\n",
       "      <td>965</td>\n",
       "    </tr>\n",
       "    <tr>\n",
       "      <th>2</th>\n",
       "      <td>1</td>\n",
       "      <td>965</td>\n",
       "    </tr>\n",
       "    <tr>\n",
       "      <th>3</th>\n",
       "      <td>2</td>\n",
       "      <td>964</td>\n",
       "    </tr>\n",
       "    <tr>\n",
       "      <th>4</th>\n",
       "      <td>4</td>\n",
       "      <td>964</td>\n",
       "    </tr>\n",
       "  </tbody>\n",
       "</table>\n",
       "</div>"
      ],
      "text/plain": [
       "   index  count\n",
       "0      3    965\n",
       "1      5    965\n",
       "2      1    965\n",
       "3      2    964\n",
       "4      4    964"
      ]
     },
     "execution_count": 65,
     "metadata": {},
     "output_type": "execute_result"
    }
   ],
   "source": [
    "dftest['Other_Quintile'].value_counts().reset_index(name='count')\n"
   ]
  },
  {
   "cell_type": "code",
   "execution_count": 66,
   "metadata": {},
   "outputs": [],
   "source": [
    "\n",
    "buyers = pd.crosstab(dftest['Other_Quintile'], dftest['other'], normalize='index')\n",
    "\n"
   ]
  },
  {
   "cell_type": "code",
   "execution_count": 67,
   "metadata": {},
   "outputs": [
    {
     "name": "stdout",
     "output_type": "stream",
     "text": [
      "other                  0         1\n",
      "Other_Quintile                    \n",
      "1               0.529534  0.470466\n",
      "2               0.851660  0.148340\n",
      "3               0.947150  0.052850\n",
      "4               0.982365  0.017635\n",
      "5               0.990674  0.009326\n"
     ]
    }
   ],
   "source": [
    "print(buyers)"
   ]
  },
  {
   "cell_type": "code",
   "execution_count": 68,
   "metadata": {},
   "outputs": [
    {
     "data": {
      "text/plain": [
       "Other_Quintile\n",
       "1    82687.278135\n",
       "2    20731.785799\n",
       "3     2604.580839\n",
       "4     1197.903226\n",
       "5      536.824808\n",
       "Name: nuveen_t3m_sales_other, dtype: float64"
      ]
     },
     "execution_count": 68,
     "metadata": {},
     "output_type": "execute_result"
    }
   ],
   "source": [
    " dftest.groupby('Other_Quintile')['nuveen_t3m_sales_other'].mean()"
   ]
  },
  {
   "cell_type": "code",
   "execution_count": 69,
   "metadata": {},
   "outputs": [
    {
     "data": {
      "text/plain": [
       "<matplotlib.axes._subplots.AxesSubplot at 0x1e0273b0ac0>"
      ]
     },
     "execution_count": 69,
     "metadata": {},
     "output_type": "execute_result"
    },
    {
     "data": {
      "image/png": "[encoded data removed]",
      "text/plain": [
       "<Figure size 432x288 with 1 Axes>"
      ]
     },
     "metadata": {
      "needs_background": "light"
     },
     "output_type": "display_data"
    }
   ],
   "source": [
    "dftest.groupby(by = \"Other_Quintile\")['asset2p'].mean().plot(kind = \"bar\", title=\"Proportion of Advisors Buying 2+ Asset Classes and Buying Alternative Investments\", color='blue')\n"
   ]
  },
  {
   "cell_type": "code",
   "execution_count": 71,
   "metadata": {},
   "outputs": [
    {
     "data": {
      "text/plain": [
       "<matplotlib.axes._subplots.AxesSubplot at 0x1e02746ca90>"
      ]
     },
     "execution_count": 71,
     "metadata": {},
     "output_type": "execute_result"
    },
    {
     "data": {
      "image/png": "[encoded data removed]",
      "text/plain": [
       "<Figure size 432x288 with 1 Axes>"
      ]
     },
     "metadata": {
      "needs_background": "light"
     },
     "output_type": "display_data"
    }
   ],
   "source": [
    "dftest.groupby(by = \"Other_Quintile\")['nuveen_t12m_sales_other'].mean().plot(kind = \"bar\", title=\"Sellers of Alternative Investments in the Past 9 Mos. by Model Group for Alternative Investment Sales\", color='maroon')\n"
   ]
  },
  {
   "cell_type": "code",
   "execution_count": 23,
   "metadata": {},
   "outputs": [],
   "source": [
    "dftest.to_csv('C:/Users/tdougherty1/Desktop/AA490 Spring23/Wells Fargo/WFTest.csv')"
   ]
  }
 ],
 "metadata": {
  "kernelspec": {
   "display_name": "Python 3 (ipykernel)",
   "language": "python",
   "name": "python3"
  },
  "language_info": {
   "codemirror_mode": {
    "name": "ipython",
    "version": 3
   },
   "file_extension": ".py",
   "mimetype": "text/x-python",
   "name": "python",
   "nbconvert_exporter": "python",
   "pygments_lexer": "ipython3",
   "version": "3.8.5"
  }
 },
 "nbformat": 4,
 "nbformat_minor": 4
}
