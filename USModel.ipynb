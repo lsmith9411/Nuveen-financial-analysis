{
 "cells": [
  {
   "cell_type": "code",
   "execution_count": 21,
   "metadata": {},
   "outputs": [],
   "source": [
    "import pandas as pd\n",
    "import numpy as np\n",
    "import statsmodels.formula.api as sm\n",
    "\n"
   ]
  },
  {
   "cell_type": "code",
   "execution_count": 40,
   "metadata": {},
   "outputs": [],
   "source": [
    "dftrain=pd.read_csv('C:/Users/student/Documents/Senior/Spring/Capstone/Nuveen/WF_Train_round1.csv')\n",
    "dftest=pd.read_csv('C:/Users/student/Documents/Senior/Spring/Capstone/Nuveen/WF_Test_round1.csv',low_memory=False)"
   ]
  },
  {
   "cell_type": "code",
   "execution_count": 41,
   "metadata": {
    "scrolled": true
   },
   "outputs": [
    {
     "name": "stdout",
     "output_type": "stream",
     "text": [
      "Optimization terminated successfully.\n",
      "         Current function value: 0.066029\n",
      "         Iterations 9\n",
      "                           Logit Regression Results                           \n",
      "==============================================================================\n",
      "Dep. Variable:                     us   No. Observations:                 4824\n",
      "Model:                          Logit   Df Residuals:                     4819\n",
      "Method:                           MLE   Df Model:                            4\n",
      "Date:                Wed, 05 Apr 2023   Pseudo R-squ.:                  0.2753\n",
      "Time:                        19:21:23   Log-Likelihood:                -318.52\n",
      "converged:                       True   LL-Null:                       -439.55\n",
      "Covariance Type:            nonrobust   LLR p-value:                 3.363e-51\n",
      "================================================================================================\n",
      "                                   coef    std err          z      P>|z|      [0.025      0.975]\n",
      "------------------------------------------------------------------------------------------------\n",
      "Intercept                       -5.1830      0.213    -24.282      0.000      -5.601      -4.765\n",
      "nuveen_t12m_sales_us_equity   1.074e-05   2.26e-06      4.746      0.000    6.31e-06    1.52e-05\n",
      "nuveen_t12m_reds_us_equity    1.294e-05   2.22e-06      5.825      0.000    8.59e-06    1.73e-05\n",
      "nuveen_t24m_netsl_int_equity  1.411e-05   5.63e-06      2.506      0.012    3.08e-06    2.51e-05\n",
      "asset2p                          1.8739      0.261      7.181      0.000       1.362       2.385\n",
      "================================================================================================\n"
     ]
    }
   ],
   "source": [
    "\n",
    "model = sm.logit(formula='us ~ nuveen_t12m_sales_us_equity+nuveen_t12m_reds_us_equity+nuveen_t24m_netsl_int_equity+asset2p', data=dftrain).fit()\n",
    "print(model.summary())"
   ]
  },
  {
   "cell_type": "code",
   "execution_count": 42,
   "metadata": {},
   "outputs": [],
   "source": [
    "\n",
    "Xtest = dftest[['nuveen_t12m_sales_us_equity', 'asset2p', 'nuveen_t12m_reds_us_equity', 'nuveen_t24m_netsl_int_equity']]\n",
    "ytest = dftest['us']\n",
    "  \n",
    "us_yhat = model.predict(Xtest)\n"
   ]
  },
  {
   "cell_type": "code",
   "execution_count": 43,
   "metadata": {},
   "outputs": [],
   "source": [
    "dftest['us_yhat'] = us_yhat"
   ]
  },
  {
   "cell_type": "code",
   "execution_count": 44,
   "metadata": {},
   "outputs": [
    {
     "name": "stdout",
     "output_type": "stream",
     "text": [
      "0       0.005580\n",
      "1       0.005580\n",
      "2       0.005580\n",
      "3       0.017043\n",
      "4       0.005580\n",
      "          ...   \n",
      "4819    0.005580\n",
      "4820    0.035261\n",
      "4821    0.005580\n",
      "4822    0.035261\n",
      "4823    0.005580\n",
      "Length: 4824, dtype: float64\n"
     ]
    }
   ],
   "source": [
    "print(us_yhat)"
   ]
  },
  {
   "cell_type": "code",
   "execution_count": 45,
   "metadata": {},
   "outputs": [],
   "source": [
    "\n",
    "dftest = dftest.sort_values(by = 'us_yhat', ascending = False)\n"
   ]
  },
  {
   "cell_type": "code",
   "execution_count": 61,
   "metadata": {},
   "outputs": [],
   "source": [
    "dftest['US_Equity_Quintile'] = pd.qcut(dftest['us_yhat'], 2, labels=[i for i in range (2, 0, -1)])"
   ]
  },
  {
   "cell_type": "code",
   "execution_count": 62,
   "metadata": {},
   "outputs": [
    {
     "name": "stdout",
     "output_type": "stream",
     "text": [
      "3562    1\n",
      "128     1\n",
      "1777    1\n",
      "1429    1\n",
      "3505    1\n",
      "       ..\n",
      "3169    2\n",
      "4244    2\n",
      "3007    2\n",
      "1500    2\n",
      "236     2\n",
      "Name: US_Equity_Quintile, Length: 4824, dtype: category\n",
      "Categories (2, int64): [2 < 1]\n"
     ]
    }
   ],
   "source": [
    "print(dftest['US_Equity_Quintile'])"
   ]
  },
  {
   "cell_type": "code",
   "execution_count": 63,
   "metadata": {},
   "outputs": [],
   "source": [
    "dftest['US_Equity_Quintile'] = dftest['US_Equity_Quintile'].astype('int')"
   ]
  },
  {
   "cell_type": "code",
   "execution_count": 64,
   "metadata": {},
   "outputs": [
    {
     "data": {
      "text/html": [
       "<div>\n",
       "<style scoped>\n",
       "    .dataframe tbody tr th:only-of-type {\n",
       "        vertical-align: middle;\n",
       "    }\n",
       "\n",
       "    .dataframe tbody tr th {\n",
       "        vertical-align: top;\n",
       "    }\n",
       "\n",
       "    .dataframe thead th {\n",
       "        text-align: right;\n",
       "    }\n",
       "</style>\n",
       "<table border=\"1\" class=\"dataframe\">\n",
       "  <thead>\n",
       "    <tr style=\"text-align: right;\">\n",
       "      <th></th>\n",
       "      <th>index</th>\n",
       "      <th>count</th>\n",
       "    </tr>\n",
       "  </thead>\n",
       "  <tbody>\n",
       "    <tr>\n",
       "      <th>0</th>\n",
       "      <td>2</td>\n",
       "      <td>3207</td>\n",
       "    </tr>\n",
       "    <tr>\n",
       "      <th>1</th>\n",
       "      <td>1</td>\n",
       "      <td>1617</td>\n",
       "    </tr>\n",
       "  </tbody>\n",
       "</table>\n",
       "</div>"
      ],
      "text/plain": [
       "   index  count\n",
       "0      2   3207\n",
       "1      1   1617"
      ]
     },
     "execution_count": 64,
     "metadata": {},
     "output_type": "execute_result"
    }
   ],
   "source": [
    "dftest['US_Equity_Quintile'].value_counts().reset_index(name='count')\n"
   ]
  },
  {
   "cell_type": "code",
   "execution_count": 32,
   "metadata": {},
   "outputs": [],
   "source": [
    "\n",
    "buyers = pd.crosstab(dftest['US_Equity_Quintile'], dftest['us'], normalize='index')\n",
    "\n"
   ]
  },
  {
   "cell_type": "code",
   "execution_count": 65,
   "metadata": {},
   "outputs": [
    {
     "name": "stdout",
     "output_type": "stream",
     "text": [
      "us                         0         1\n",
      "US_Equity_Quintile                    \n",
      "1                   0.950526  0.049474\n",
      "2                   0.997505  0.002495\n"
     ]
    }
   ],
   "source": [
    "print(buyers)"
   ]
  },
  {
   "cell_type": "code",
   "execution_count": 34,
   "metadata": {},
   "outputs": [
    {
     "data": {
      "text/plain": [
       "US_Equity_Quintile\n",
       "1    1707.714737\n",
       "2      61.285245\n",
       "Name: nuveen_t3m_sales_us_equity, dtype: float64"
      ]
     },
     "execution_count": 34,
     "metadata": {},
     "output_type": "execute_result"
    }
   ],
   "source": [
    " dftest.groupby('US_Equity_Quintile')['nuveen_t3m_sales_us_equity'].mean()"
   ]
  },
  {
   "cell_type": "code",
   "execution_count": 66,
   "metadata": {},
   "outputs": [],
   "source": [
    "dftest['US_Equity_Quintile'] = dftest['US_Equity_Quintile'].replace([1], 3)\n",
    "dftest['US_Equity_Quintile'] = dftest['US_Equity_Quintile'].replace([2], 4)"
   ]
  },
  {
   "cell_type": "code",
   "execution_count": 70,
   "metadata": {},
   "outputs": [
    {
     "data": {
      "text/plain": [
       "<AxesSubplot:title={'center':'Proportion of Advisors Buying 2+ Asset Classes and Buying US Equity'}, xlabel='US_Equity_Quintile'>"
      ]
     },
     "execution_count": 70,
     "metadata": {},
     "output_type": "execute_result"
    },
    {
     "data": {
      "image/png": "[encoded data removed]",
      "text/plain": [
       "<Figure size 432x288 with 1 Axes>"
      ]
     },
     "metadata": {
      "needs_background": "light"
     },
     "output_type": "display_data"
    }
   ],
   "source": [
    "dftest.groupby(by = \"US_Equity_Quintile\")['asset2p'].mean().plot(kind = \"bar\", title=\"Proportion of Advisors Buying 2+ Asset Classes and Buying US Equity\", color='teal')\n"
   ]
  },
  {
   "cell_type": "code",
   "execution_count": 69,
   "metadata": {},
   "outputs": [
    {
     "data": {
      "text/plain": [
       "<AxesSubplot:title={'center':'Net Sales of International Equity by Model Group for US Equity Sales'}, xlabel='US_Equity_Quintile'>"
      ]
     },
     "execution_count": 69,
     "metadata": {},
     "output_type": "execute_result"
    },
    {
     "data": {
      "image/png": "[encoded data removed]",
      "text/plain": [
       "<Figure size 432x288 with 1 Axes>"
      ]
     },
     "metadata": {
      "needs_background": "light"
     },
     "output_type": "display_data"
    }
   ],
   "source": [
    "dftest.groupby(by = \"US_Equity_Quintile\")['nuveen_t24m_netsl_int_equity'].mean().plot(kind = \"bar\", title=\"Net Sales of International Equity by Model Group for US Equity Sales\", color='teal')\n"
   ]
  },
  {
   "cell_type": "code",
   "execution_count": 38,
   "metadata": {},
   "outputs": [],
   "source": [
    "dftest.to_csv('C:/Users/student/Documents/Senior/Spring/Capstone/Nuveen/US_WF_Test_round1.csv')"
   ]
  },
  {
   "cell_type": "code",
   "execution_count": null,
   "metadata": {},
   "outputs": [],
   "source": []
  }
 ],
 "metadata": {
  "kernelspec": {
   "display_name": "Python 3 (ipykernel)",
   "language": "python",
   "name": "python3"
  },
  "language_info": {
   "codemirror_mode": {
    "name": "ipython",
    "version": 3
   },
   "file_extension": ".py",
   "mimetype": "text/x-python",
   "name": "python",
   "nbconvert_exporter": "python",
   "pygments_lexer": "ipython3",
   "version": "3.8.5"
  }
 },
 "nbformat": 4,
 "nbformat_minor": 4
}
