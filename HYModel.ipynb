{
 "cells": [
  {
   "cell_type": "code",
   "execution_count": 1,
   "metadata": {},
   "outputs": [],
   "source": [
    "import pandas as pd\n",
    "import numpy as np\n",
    "import statsmodels.formula.api as sm\n",
    "\n"
   ]
  },
  {
   "cell_type": "code",
   "execution_count": 2,
   "metadata": {},
   "outputs": [],
   "source": [
    "dftrain=pd.read_csv('C:/Users/student/Documents/Senior/Spring/Capstone/Nuveen/WF_Train_round1.csv')"
   ]
  },
  {
   "cell_type": "code",
   "execution_count": 3,
   "metadata": {},
   "outputs": [],
   "source": [
    "dftest=pd.read_csv('C:/Users/student/Documents/Senior/Spring/Capstone/Nuveen/US_WF_Test_round1.csv', low_memory=False)"
   ]
  },
  {
   "cell_type": "code",
   "execution_count": 4,
   "metadata": {},
   "outputs": [
    {
     "name": "stdout",
     "output_type": "stream",
     "text": [
      "Optimization terminated successfully.\n",
      "         Current function value: 0.048686\n",
      "         Iterations 9\n",
      "                           Logit Regression Results                           \n",
      "==============================================================================\n",
      "Dep. Variable:                     hy   No. Observations:                 4824\n",
      "Model:                          Logit   Df Residuals:                     4819\n",
      "Method:                           MLE   Df Model:                            4\n",
      "Date:                Wed, 12 Apr 2023   Pseudo R-squ.:                  0.1825\n",
      "Time:                        19:55:22   Log-Likelihood:                -234.86\n",
      "converged:                       True   LL-Null:                       -287.28\n",
      "Covariance Type:            nonrobust   LLR p-value:                 9.138e-22\n",
      "================================================================================================\n",
      "                                   coef    std err          z      P>|z|      [0.025      0.975]\n",
      "------------------------------------------------------------------------------------------------\n",
      "Intercept                       -5.0742      0.190    -26.715      0.000      -5.446      -4.702\n",
      "nuveen_t24m_sales_hy_taxable   1.04e-06   2.32e-07      4.487      0.000    5.86e-07    1.49e-06\n",
      "nuveen_t12m_reds_total       -2.408e-07   1.96e-07     -1.228      0.220   -6.25e-07    1.44e-07\n",
      "nuveen_t24m_reds_ig_taxable   1.375e-06   4.13e-07      3.327      0.001    5.65e-07    2.19e-06\n",
      "asset3p                          2.4347      0.325      7.498      0.000       1.798       3.071\n",
      "================================================================================================\n"
     ]
    }
   ],
   "source": [
    "model = sm.logit(formula='hy ~ nuveen_t24m_sales_hy_taxable+nuveen_t12m_reds_total+nuveen_t24m_reds_ig_taxable+\\\n",
    "                 asset3p', data=dftrain).fit()\n",
    "print(model.summary())\n",
    "\n"
   ]
  },
  {
   "cell_type": "code",
   "execution_count": 5,
   "metadata": {},
   "outputs": [],
   "source": [
    "\n",
    "Xtest = dftest[['nuveen_t24m_sales_hy_taxable', 'nuveen_t12m_reds_total', 'nuveen_t24m_reds_ig_taxable', 'asset3p']]\n",
    "ytest = dftest['hy']\n",
    "  \n",
    "hy_yhat = model.predict(Xtest)\n"
   ]
  },
  {
   "cell_type": "code",
   "execution_count": 6,
   "metadata": {},
   "outputs": [],
   "source": [
    "dftest['hy_yhat'] = hy_yhat"
   ]
  },
  {
   "cell_type": "code",
   "execution_count": 7,
   "metadata": {},
   "outputs": [
    {
     "name": "stdout",
     "output_type": "stream",
     "text": [
      "0       0.002983\n",
      "1       0.046931\n",
      "2       0.005603\n",
      "3       0.004366\n",
      "4       0.004587\n",
      "          ...   \n",
      "4819    0.006217\n",
      "4820    0.005799\n",
      "4821    0.005176\n",
      "4822    0.006217\n",
      "4823    0.004980\n",
      "Length: 4824, dtype: float64\n"
     ]
    }
   ],
   "source": [
    "print(hy_yhat)"
   ]
  },
  {
   "cell_type": "code",
   "execution_count": 8,
   "metadata": {},
   "outputs": [],
   "source": [
    "\n",
    "dftest = dftest.sort_values(by = 'hy_yhat', ascending = False)\n"
   ]
  },
  {
   "cell_type": "code",
   "execution_count": 9,
   "metadata": {},
   "outputs": [],
   "source": [
    "dftest['HY_Taxable_Quintile'] = pd.qcut(dftest['hy_yhat'], 4, labels=[i for i in range (4, 0, -1)])"
   ]
  },
  {
   "cell_type": "code",
   "execution_count": 10,
   "metadata": {},
   "outputs": [
    {
     "name": "stdout",
     "output_type": "stream",
     "text": [
      "2862    1\n",
      "561     1\n",
      "55      1\n",
      "990     1\n",
      "106     1\n",
      "       ..\n",
      "832     4\n",
      "4785    4\n",
      "536     4\n",
      "745     4\n",
      "807     4\n",
      "Name: HY_Taxable_Quintile, Length: 4824, dtype: category\n",
      "Categories (4, int64): [4 < 3 < 2 < 1]\n"
     ]
    }
   ],
   "source": [
    "print(dftest['HY_Taxable_Quintile'])"
   ]
  },
  {
   "cell_type": "code",
   "execution_count": 11,
   "metadata": {},
   "outputs": [],
   "source": [
    "dftest['HY_Taxable_Quintile'] = dftest['HY_Taxable_Quintile'].astype('int')"
   ]
  },
  {
   "cell_type": "code",
   "execution_count": 12,
   "metadata": {},
   "outputs": [
    {
     "data": {
      "text/html": [
       "<div>\n",
       "<style scoped>\n",
       "    .dataframe tbody tr th:only-of-type {\n",
       "        vertical-align: middle;\n",
       "    }\n",
       "\n",
       "    .dataframe tbody tr th {\n",
       "        vertical-align: top;\n",
       "    }\n",
       "\n",
       "    .dataframe thead th {\n",
       "        text-align: right;\n",
       "    }\n",
       "</style>\n",
       "<table border=\"1\" class=\"dataframe\">\n",
       "  <thead>\n",
       "    <tr style=\"text-align: right;\">\n",
       "      <th></th>\n",
       "      <th>index</th>\n",
       "      <th>count</th>\n",
       "    </tr>\n",
       "  </thead>\n",
       "  <tbody>\n",
       "    <tr>\n",
       "      <th>0</th>\n",
       "      <td>2</td>\n",
       "      <td>1917</td>\n",
       "    </tr>\n",
       "    <tr>\n",
       "      <th>1</th>\n",
       "      <td>3</td>\n",
       "      <td>1206</td>\n",
       "    </tr>\n",
       "    <tr>\n",
       "      <th>2</th>\n",
       "      <td>4</td>\n",
       "      <td>1206</td>\n",
       "    </tr>\n",
       "    <tr>\n",
       "      <th>3</th>\n",
       "      <td>1</td>\n",
       "      <td>495</td>\n",
       "    </tr>\n",
       "  </tbody>\n",
       "</table>\n",
       "</div>"
      ],
      "text/plain": [
       "   index  count\n",
       "0      2   1917\n",
       "1      3   1206\n",
       "2      4   1206\n",
       "3      1    495"
      ]
     },
     "execution_count": 12,
     "metadata": {},
     "output_type": "execute_result"
    }
   ],
   "source": [
    "dftest['HY_Taxable_Quintile'].value_counts().reset_index(name='count')\n"
   ]
  },
  {
   "cell_type": "code",
   "execution_count": 13,
   "metadata": {},
   "outputs": [],
   "source": [
    "\n",
    "buyers = pd.crosstab(dftest['HY_Taxable_Quintile'], dftest['hy'], normalize='index')\n",
    "\n"
   ]
  },
  {
   "cell_type": "code",
   "execution_count": 14,
   "metadata": {},
   "outputs": [
    {
     "name": "stdout",
     "output_type": "stream",
     "text": [
      "hy                          0         1\n",
      "HY_Taxable_Quintile                    \n",
      "1                    0.911111  0.088889\n",
      "2                    0.998435  0.001565\n",
      "3                    0.999171  0.000829\n",
      "4                    0.994196  0.005804\n"
     ]
    }
   ],
   "source": [
    "print(buyers)"
   ]
  },
  {
   "cell_type": "code",
   "execution_count": 15,
   "metadata": {},
   "outputs": [
    {
     "data": {
      "text/plain": [
       "HY_Taxable_Quintile\n",
       "1    8416.716788\n",
       "2      80.469484\n",
       "3      10.899362\n",
       "4     269.725282\n",
       "Name: nuveen_t3m_sales_hy_taxable, dtype: float64"
      ]
     },
     "execution_count": 15,
     "metadata": {},
     "output_type": "execute_result"
    }
   ],
   "source": [
    " dftest.groupby('HY_Taxable_Quintile')['nuveen_t3m_sales_hy_taxable'].mean()"
   ]
  },
  {
   "cell_type": "code",
   "execution_count": 16,
   "metadata": {},
   "outputs": [],
   "source": [
    "dftest['HY_Taxable_Quintile'] = dftest['HY_Taxable_Quintile']+1\n"
   ]
  },
  {
   "cell_type": "code",
   "execution_count": 17,
   "metadata": {},
   "outputs": [
    {
     "data": {
      "text/plain": [
       "<AxesSubplot:title={'center':'Proportion of Advisors Buying 3+ Asset Classes and Buying High Yield Bond Funds'}, xlabel='HY_Taxable_Quintile'>"
      ]
     },
     "execution_count": 17,
     "metadata": {},
     "output_type": "execute_result"
    },
    {
     "data": {
      "image/png": "[encoded data removed]",
      "text/plain": [
       "<Figure size 432x288 with 1 Axes>"
      ]
     },
     "metadata": {
      "needs_background": "light"
     },
     "output_type": "display_data"
    }
   ],
   "source": [
    "dftest.groupby(by = \"HY_Taxable_Quintile\")['asset3p'].mean().plot(kind = \"bar\", title=\"Proportion of Advisors Buying 3+ Asset Classes and Buying High Yield Bond Funds\", color='blue')\n"
   ]
  },
  {
   "cell_type": "code",
   "execution_count": 18,
   "metadata": {},
   "outputs": [
    {
     "data": {
      "text/plain": [
       "<AxesSubplot:title={'center':'Sales of HY Taxable in the Past 21 Mo. by Model Group for HY Sales'}, xlabel='HY_Taxable_Quintile'>"
      ]
     },
     "execution_count": 18,
     "metadata": {},
     "output_type": "execute_result"
    },
    {
     "data": {
      "image/png": "[encoded data removed]",
      "text/plain": [
       "<Figure size 432x288 with 1 Axes>"
      ]
     },
     "metadata": {
      "needs_background": "light"
     },
     "output_type": "display_data"
    }
   ],
   "source": [
    "dftest.groupby(by = \"HY_Taxable_Quintile\")['nuveen_t24m_sales_hy_taxable'].mean().plot(kind = \"bar\", title=\"Sales of HY Taxable in the Past 21 Mo. by Model Group for HY Sales\", color='maroon')\n"
   ]
  },
  {
   "cell_type": "code",
   "execution_count": 23,
   "metadata": {},
   "outputs": [],
   "source": [
    "dftest.to_csv('C:/Users/tdougherty1/Desktop/AA490 Spring23/Wells Fargo/WFTest.csv')"
   ]
  }
 ],
 "metadata": {
  "kernelspec": {
   "display_name": "Python 3 (ipykernel)",
   "language": "python",
   "name": "python3"
  },
  "language_info": {
   "codemirror_mode": {
    "name": "ipython",
    "version": 3
   },
   "file_extension": ".py",
   "mimetype": "text/x-python",
   "name": "python",
   "nbconvert_exporter": "python",
   "pygments_lexer": "ipython3",
   "version": "3.8.5"
  }
 },
 "nbformat": 4,
 "nbformat_minor": 4
}
