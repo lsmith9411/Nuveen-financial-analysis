{
 "cells": [
  {
   "cell_type": "code",
   "execution_count": 59,
   "metadata": {},
   "outputs": [
    {
     "name": "stdout",
     "output_type": "stream",
     "text": [
      "Version:  0.0.25\n"
     ]
    }
   ],
   "source": [
    "import pandas as pd\n",
    "import numpy as np\n",
    "import statsmodels.formula.api as sm\n",
    "from sci378 import*"
   ]
  },
  {
   "cell_type": "code",
   "execution_count": 27,
   "metadata": {},
   "outputs": [],
   "source": [
    "dftrain=pd.read_csv('C:/Users/student/Documents/Senior/Spring/Capstone/Nuveen/WF_Train_round1.csv')"
   ]
  },
  {
   "cell_type": "code",
   "execution_count": 28,
   "metadata": {},
   "outputs": [],
   "source": [
    "dftest=pd.read_csv('C:/Users/student/Documents/Senior/Spring/Capstone/Nuveen/US_WF_Test_round1.csv', low_memory=False)"
   ]
  },
  {
   "cell_type": "code",
   "execution_count": 29,
   "metadata": {},
   "outputs": [
    {
     "data": {
      "text/plain": [
       "7920237.95"
      ]
     },
     "execution_count": 29,
     "metadata": {},
     "output_type": "execute_result"
    }
   ],
   "source": [
    "\n",
    "dftrain['nuveen_t3m_sales_muni_bonds'].max()"
   ]
  },
  {
   "cell_type": "code",
   "execution_count": 30,
   "metadata": {},
   "outputs": [
    {
     "data": {
      "text/plain": [
       "7920237.95"
      ]
     },
     "execution_count": 30,
     "metadata": {},
     "output_type": "execute_result"
    }
   ],
   "source": [
    "dftest['nuveen_t3m_sales_muni_bonds'].max()"
   ]
  },
  {
   "cell_type": "code",
   "execution_count": 31,
   "metadata": {},
   "outputs": [
    {
     "data": {
      "text/plain": [
       "(4824, 187)"
      ]
     },
     "execution_count": 31,
     "metadata": {},
     "output_type": "execute_result"
    }
   ],
   "source": [
    "dftrain.shape"
   ]
  },
  {
   "cell_type": "code",
   "execution_count": 32,
   "metadata": {},
   "outputs": [],
   "source": [
    "dftrain.drop(dftrain.index[dftrain['nuveen_t3m_sales_muni_bonds'] >= 4000000], inplace=True)"
   ]
  },
  {
   "cell_type": "code",
   "execution_count": 33,
   "metadata": {},
   "outputs": [
    {
     "data": {
      "text/plain": [
       "(4821, 187)"
      ]
     },
     "execution_count": 33,
     "metadata": {},
     "output_type": "execute_result"
    }
   ],
   "source": [
    "dftrain.shape"
   ]
  },
  {
   "cell_type": "code",
   "execution_count": 34,
   "metadata": {},
   "outputs": [
    {
     "data": {
      "text/plain": [
       "(4824, 190)"
      ]
     },
     "execution_count": 34,
     "metadata": {},
     "output_type": "execute_result"
    }
   ],
   "source": [
    "dftest.shape"
   ]
  },
  {
   "cell_type": "code",
   "execution_count": 35,
   "metadata": {},
   "outputs": [],
   "source": [
    "dftest.drop(dftest.index[dftest['nuveen_t3m_sales_muni_bonds'] >= 4000000], inplace=True)"
   ]
  },
  {
   "cell_type": "code",
   "execution_count": 36,
   "metadata": {},
   "outputs": [
    {
     "data": {
      "text/plain": [
       "(4823, 190)"
      ]
     },
     "execution_count": 36,
     "metadata": {},
     "output_type": "execute_result"
    }
   ],
   "source": [
    "dftest.shape"
   ]
  },
  {
   "cell_type": "code",
   "execution_count": 37,
   "metadata": {
    "scrolled": true
   },
   "outputs": [
    {
     "name": "stdout",
     "output_type": "stream",
     "text": [
      "Optimization terminated successfully.\n",
      "         Current function value: 0.326864\n",
      "         Iterations 7\n",
      "                           Logit Regression Results                           \n",
      "==============================================================================\n",
      "Dep. Variable:                   muni   No. Observations:                 4821\n",
      "Model:                          Logit   Df Residuals:                     4808\n",
      "Method:                           MLE   Df Model:                           12\n",
      "Date:                Wed, 05 Apr 2023   Pseudo R-squ.:                  0.2444\n",
      "Time:                        19:52:09   Log-Likelihood:                -1575.8\n",
      "converged:                       True   LL-Null:                       -2085.6\n",
      "Covariance Type:            nonrobust   LLR p-value:                1.196e-210\n",
      "================================================================================================\n",
      "                                   coef    std err          z      P>|z|      [0.025      0.975]\n",
      "------------------------------------------------------------------------------------------------\n",
      "Intercept                       -2.9315      0.089    -33.049      0.000      -3.105      -2.758\n",
      "t12m_sales_us_equity          7.379e-08   1.53e-08      4.809      0.000    4.37e-08    1.04e-07\n",
      "nuveen_t12m_sales_muni_bonds   2.41e-06   2.54e-07      9.487      0.000    1.91e-06    2.91e-06\n",
      "nuveen_t24m_sales_hy_taxable -1.408e-06   4.02e-07     -3.503      0.000    -2.2e-06    -6.2e-07\n",
      "t12m_reds_int_equity         -1.052e-07   3.72e-08     -2.825      0.005   -1.78e-07   -3.22e-08\n",
      "t12m_reds_muni_bonds         -5.614e-08   1.85e-08     -3.038      0.002   -9.24e-08   -1.99e-08\n",
      "mf_aum_ig_taxable             3.379e-08   6.92e-09      4.884      0.000    2.02e-08    4.73e-08\n",
      "mf_aum_muni_bonds             2.665e-08    7.5e-09      3.555      0.000     1.2e-08    4.13e-08\n",
      "t24m_netsl_us_equity         -1.646e-08   1.27e-08     -1.296      0.195   -4.14e-08    8.43e-09\n",
      "asset2p                          1.6122      0.104     15.564      0.000       1.409       1.815\n",
      "asset3p                          0.5703      0.162      3.510      0.000       0.252       0.889\n",
      "young                            0.3009      0.115      2.611      0.009       0.075       0.527\n",
      "old                             -0.1355      0.117     -1.159      0.246      -0.365       0.094\n",
      "================================================================================================\n"
     ]
    }
   ],
   "source": [
    "\n",
    "model = sm.logit(formula='muni ~ t12m_sales_us_equity+nuveen_t12m_sales_muni_bonds+nuveen_t24m_sales_hy_taxable+\\\n",
    "                 t12m_reds_int_equity+t12m_reds_muni_bonds+mf_aum_ig_taxable+mf_aum_muni_bonds+\\\n",
    "                 t24m_netsl_us_equity+asset2p+asset3p+young+old', data=dftrain).fit()\n",
    "print(model.summary())"
   ]
  },
  {
   "cell_type": "code",
   "execution_count": 38,
   "metadata": {},
   "outputs": [],
   "source": [
    "\n",
    "Xtest = dftest[['t12m_sales_us_equity', 'nuveen_t12m_sales_muni_bonds', 'nuveen_t24m_sales_hy_taxable',\\\n",
    "                't12m_reds_int_equity', 't12m_reds_muni_bonds', 'mf_aum_ig_taxable', 'mf_aum_muni_bonds',\\\n",
    "                 't24m_netsl_us_equity', 'asset2p', 'asset3p', 'young', 'old']]\n",
    "ytest = dftest['muni']\n",
    "  \n",
    "muni_yhat = model.predict(Xtest)\n"
   ]
  },
  {
   "cell_type": "code",
   "execution_count": 39,
   "metadata": {},
   "outputs": [],
   "source": [
    "dftest['muni_yhat'] = muni_yhat"
   ]
  },
  {
   "cell_type": "code",
   "execution_count": 40,
   "metadata": {},
   "outputs": [
    {
     "name": "stdout",
     "output_type": "stream",
     "text": [
      "0       0.064789\n",
      "1       0.657333\n",
      "2       0.515493\n",
      "3       0.058016\n",
      "4       0.391097\n",
      "          ...   \n",
      "4819    0.048633\n",
      "4820    0.071392\n",
      "4821    0.461813\n",
      "4822    0.058674\n",
      "4823    0.047869\n",
      "Length: 4823, dtype: float64\n"
     ]
    }
   ],
   "source": [
    "print(muni_yhat)"
   ]
  },
  {
   "cell_type": "code",
   "execution_count": 41,
   "metadata": {},
   "outputs": [],
   "source": [
    "\n",
    "dftest = dftest.sort_values(by = 'muni_yhat', ascending = False)\n"
   ]
  },
  {
   "cell_type": "code",
   "execution_count": 52,
   "metadata": {},
   "outputs": [],
   "source": [
    "dftest['Muni_Bond_Quintile'] = pd.qcut(dftest['muni_yhat'], 5, labels=[i for i in range (5, 0, -1)])"
   ]
  },
  {
   "cell_type": "code",
   "execution_count": 53,
   "metadata": {},
   "outputs": [
    {
     "name": "stdout",
     "output_type": "stream",
     "text": [
      "756     1\n",
      "4755    1\n",
      "745     1\n",
      "536     1\n",
      "29      1\n",
      "       ..\n",
      "55      5\n",
      "990     5\n",
      "2824    5\n",
      "561     5\n",
      "2862    5\n",
      "Name: Muni_Bond_Quintile, Length: 4823, dtype: category\n",
      "Categories (5, int64): [5 < 4 < 3 < 2 < 1]\n"
     ]
    }
   ],
   "source": [
    "print(dftest['Muni_Bond_Quintile'])"
   ]
  },
  {
   "cell_type": "code",
   "execution_count": 54,
   "metadata": {},
   "outputs": [],
   "source": [
    "dftest['Muni_Bond_Quintile'] = dftest['Muni_Bond_Quintile'].astype('int')"
   ]
  },
  {
   "cell_type": "code",
   "execution_count": 55,
   "metadata": {},
   "outputs": [
    {
     "data": {
      "text/html": [
       "<div>\n",
       "<style scoped>\n",
       "    .dataframe tbody tr th:only-of-type {\n",
       "        vertical-align: middle;\n",
       "    }\n",
       "\n",
       "    .dataframe tbody tr th {\n",
       "        vertical-align: top;\n",
       "    }\n",
       "\n",
       "    .dataframe thead th {\n",
       "        text-align: right;\n",
       "    }\n",
       "</style>\n",
       "<table border=\"1\" class=\"dataframe\">\n",
       "  <thead>\n",
       "    <tr style=\"text-align: right;\">\n",
       "      <th></th>\n",
       "      <th>index</th>\n",
       "      <th>count</th>\n",
       "    </tr>\n",
       "  </thead>\n",
       "  <tbody>\n",
       "    <tr>\n",
       "      <th>0</th>\n",
       "      <td>3</td>\n",
       "      <td>965</td>\n",
       "    </tr>\n",
       "    <tr>\n",
       "      <th>1</th>\n",
       "      <td>5</td>\n",
       "      <td>965</td>\n",
       "    </tr>\n",
       "    <tr>\n",
       "      <th>2</th>\n",
       "      <td>1</td>\n",
       "      <td>965</td>\n",
       "    </tr>\n",
       "    <tr>\n",
       "      <th>3</th>\n",
       "      <td>2</td>\n",
       "      <td>964</td>\n",
       "    </tr>\n",
       "    <tr>\n",
       "      <th>4</th>\n",
       "      <td>4</td>\n",
       "      <td>964</td>\n",
       "    </tr>\n",
       "  </tbody>\n",
       "</table>\n",
       "</div>"
      ],
      "text/plain": [
       "   index  count\n",
       "0      3    965\n",
       "1      5    965\n",
       "2      1    965\n",
       "3      2    964\n",
       "4      4    964"
      ]
     },
     "execution_count": 55,
     "metadata": {},
     "output_type": "execute_result"
    }
   ],
   "source": [
    "dftest['Muni_Bond_Quintile'].value_counts().reset_index(name='count')\n"
   ]
  },
  {
   "cell_type": "code",
   "execution_count": 56,
   "metadata": {},
   "outputs": [],
   "source": [
    "\n",
    "buyers = pd.crosstab(dftest['Muni_Bond_Quintile'], dftest['muni'], normalize='index')\n",
    "\n"
   ]
  },
  {
   "cell_type": "code",
   "execution_count": 47,
   "metadata": {},
   "outputs": [
    {
     "name": "stdout",
     "output_type": "stream",
     "text": [
      "muni                         0         1\n",
      "Muni_Equity_Quintile                    \n",
      "1                     0.503627  0.496373\n",
      "2                     0.831950  0.168050\n",
      "3                     0.946114  0.053886\n",
      "4                     0.973029  0.026971\n",
      "5                     0.986528  0.013472\n"
     ]
    }
   ],
   "source": [
    "print(buyers)"
   ]
  },
  {
   "cell_type": "code",
   "execution_count": 57,
   "metadata": {},
   "outputs": [
    {
     "data": {
      "text/plain": [
       "Muni_Bond_Quintile\n",
       "1    80864.749554\n",
       "2    15654.994378\n",
       "3     1431.291565\n",
       "4     1436.191660\n",
       "5     1838.519358\n",
       "Name: nuveen_t3m_sales_muni_bonds, dtype: float64"
      ]
     },
     "execution_count": 57,
     "metadata": {},
     "output_type": "execute_result"
    }
   ],
   "source": [
    " dftest.groupby('Muni_Bond_Quintile')['nuveen_t3m_sales_muni_bonds'].mean()"
   ]
  },
  {
   "cell_type": "code",
   "execution_count": 60,
   "metadata": {},
   "outputs": [
    {
     "data": {
      "text/plain": [
       "<AxesSubplot:title={'center':'Proportion of Advisors Buying 2+ Asset Classes and Buying Muni Bond Funds'}, xlabel='Muni_Bond_Quintile'>"
      ]
     },
     "execution_count": 60,
     "metadata": {},
     "output_type": "execute_result"
    },
    {
     "data": {
      "image/png": "[encoded data removed]",
      "text/plain": [
       "<Figure size 864x576 with 1 Axes>"
      ]
     },
     "metadata": {
      "needs_background": "light"
     },
     "output_type": "display_data"
    }
   ],
   "source": [
    "dftest.groupby(by = \"Muni_Bond_Quintile\")['asset2p'].mean().plot(kind = \"bar\", title=\"Proportion of Advisors Buying 2+ Asset Classes and Buying Muni Bond Funds\", color='blue')\n"
   ]
  },
  {
   "cell_type": "code",
   "execution_count": 63,
   "metadata": {},
   "outputs": [
    {
     "data": {
      "text/plain": [
       "<AxesSubplot:title={'center':'Sales of Muni Bond Fund Sales to advisors 45+ by Quintile'}, xlabel='Muni_Equity_Quintile'>"
      ]
     },
     "execution_count": 63,
     "metadata": {},
     "output_type": "execute_result"
    },
    {
     "data": {
      "image/png": "[encoded data removed]",
      "text/plain": [
       "<Figure size 864x576 with 1 Axes>"
      ]
     },
     "metadata": {
      "needs_background": "light"
     },
     "output_type": "display_data"
    }
   ],
   "source": [
    "dftest.groupby(by = \"Muni_Equity_Quintile\")['old'].mean().plot(kind = \"bar\", title=\"Sales of Muni Bond Fund Sales to advisors 45+ by Quintile\", color='blue')\n"
   ]
  },
  {
   "cell_type": "code",
   "execution_count": 70,
   "metadata": {},
   "outputs": [],
   "source": [
    "dftest.to_csv('C:/Users/tdougherty1/Desktop/AA490 Spring23/Wells Fargo/WFTest.csv')"
   ]
  }
 ],
 "metadata": {
  "kernelspec": {
   "display_name": "Python 3 (ipykernel)",
   "language": "python",
   "name": "python3"
  },
  "language_info": {
   "codemirror_mode": {
    "name": "ipython",
    "version": 3
   },
   "file_extension": ".py",
   "mimetype": "text/x-python",
   "name": "python",
   "nbconvert_exporter": "python",
   "pygments_lexer": "ipython3",
   "version": "3.8.5"
  }
 },
 "nbformat": 4,
 "nbformat_minor": 4
}
